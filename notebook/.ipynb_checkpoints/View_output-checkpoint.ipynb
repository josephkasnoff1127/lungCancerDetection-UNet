{
 "cells": [
  {
   "cell_type": "code",
   "execution_count": 1,
   "metadata": {},
   "outputs": [],
   "source": [
    "import matplotlib.pyplot as plt\n",
    "import os\n",
    "import numpy as np"
   ]
  },
  {
   "cell_type": "code",
   "execution_count": 2,
   "metadata": {},
   "outputs": [
    {
     "data": {
      "text/plain": [
       "'/home/jaeho_ubuntu/Lung/notebook'"
      ]
     },
     "execution_count": 2,
     "metadata": {},
     "output_type": "execute_result"
    }
   ],
   "source": [
    "os.getcwd()"
   ]
  },
  {
   "cell_type": "code",
   "execution_count": 5,
   "metadata": {},
   "outputs": [],
   "source": [
    "IMAGE_DIR = '/home/LUNG_DATA/Image'\n",
    "MASK_DIR = '/home/LUNG_DATA/Mask'\n",
    "CLEAN_DIR_IMG ='/home/LUNG_DATA/Clean/Image'\n",
    "CLEAN_DIR_MASK ='/home/LUNG_DATA/Clean/Mask'\n",
    "PREDICT_DIR = '/home/LUNG_DATA/Unet_output_data/UNET_with_Augmenetation/'"
   ]
  },
  {
   "cell_type": "code",
   "execution_count": 7,
   "metadata": {},
   "outputs": [],
   "source": [
    "pid_list = os.listdir(PREDICT_DIR)"
   ]
  },
  {
   "cell_type": "code",
   "execution_count": 12,
   "metadata": {},
   "outputs": [
    {
     "data": {
      "text/plain": [
       "'0385_nodule0_slice14'"
      ]
     },
     "execution_count": 12,
     "metadata": {},
     "output_type": "execute_result"
    }
   ],
   "source": [
    "pid_list[0][:-12]"
   ]
  },
  {
   "cell_type": "code",
   "execution_count": null,
   "metadata": {},
   "outputs": [],
   "source": [
    "def view_img(MASK_DIR,PREDICT_DIR,IMAGE_DIR):\n",
    "    \n",
    "    for prediction in os.listdir(PREDICT_DIR):\n",
    "        pid = 'LIDC-IDRI-'+prediction[:4]\n",
    "        mask_id = prediction[:-12].replace('nodule','mask')\n",
    "        \n",
    "        original_img= np.load(IMAGE_DIR+'/'+pid+'/'+prediction[:-12]+'.npy')\n",
    "        mask_img= np.load(MASK_DIR+'/'+patient+'/'+mask)\n",
    "\n",
    "        fig,ax = plt.subplots(1,3, figsize=(8,8))\n",
    "        ax[0].title.set_text('Original image')\n",
    "        ax[0].imshow(original_img)\n",
    "        ax[0].grid()\n",
    "        ax[1].title.set_text('Mask image')\n",
    "        ax[1].imshow(mask_img)\n",
    "        ax[1].grid()\n",
    "    else:\n",
    "        print(\"No path exists\")"
   ]
  },
  {
   "cell_type": "code",
   "execution_count": null,
   "metadata": {},
   "outputs": [],
   "source": [
    "MASK_DIR= '../data/Mask'\n",
    "IMAGE_DIR='../data/Image'\n",
    "PREDICT_DIR ="
   ]
  },
  {
   "cell_type": "code",
   "execution_count": null,
   "metadata": {},
   "outputs": [],
   "source": [
    "'/home/LUNG_DATA/Unet_output_data'"
   ]
  }
 ],
 "metadata": {
  "kernelspec": {
   "display_name": "Python 3",
   "language": "python",
   "name": "python3"
  },
  "language_info": {
   "codemirror_mode": {
    "name": "ipython",
    "version": 3
   },
   "file_extension": ".py",
   "mimetype": "text/x-python",
   "name": "python",
   "nbconvert_exporter": "python",
   "pygments_lexer": "ipython3",
   "version": "3.6.5"
  }
 },
 "nbformat": 4,
 "nbformat_minor": 2
}
