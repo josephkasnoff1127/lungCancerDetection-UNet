{
 "cells": [
  {
   "cell_type": "code",
   "execution_count": 19,
   "metadata": {},
   "outputs": [],
   "source": [
    "import os \n",
    "import pandas as pd"
   ]
  },
  {
   "cell_type": "code",
   "execution_count": 20,
   "metadata": {},
   "outputs": [],
   "source": [
    "df = pd.read_csv('/home/LUNG_DATA/meta_csv/meta.csv')"
   ]
  },
  {
   "cell_type": "code",
   "execution_count": 21,
   "metadata": {},
   "outputs": [],
   "source": [
    "df = df[df['data_split']=='Test']"
   ]
  },
  {
   "cell_type": "code",
   "execution_count": 14,
   "metadata": {},
   "outputs": [
    {
     "data": {
      "text/plain": [
       "175"
      ]
     },
     "execution_count": 14,
     "metadata": {},
     "output_type": "execute_result"
    }
   ],
   "source": [
    "len(df.groupby('patient_id'))"
   ]
  },
  {
   "cell_type": "code",
   "execution_count": 13,
   "metadata": {},
   "outputs": [
    {
     "data": {
      "text/plain": [
       "<pandas.core.groupby.generic.SeriesGroupBy object at 0x7fdfda31fef0>"
      ]
     },
     "execution_count": 13,
     "metadata": {},
     "output_type": "execute_result"
    }
   ],
   "source": [
    "df.groupby('patient_id').patien"
   ]
  },
  {
   "cell_type": "code",
   "execution_count": 18,
   "metadata": {},
   "outputs": [
    {
     "data": {
      "text/html": [
       "<div>\n",
       "<style scoped>\n",
       "    .dataframe tbody tr th:only-of-type {\n",
       "        vertical-align: middle;\n",
       "    }\n",
       "\n",
       "    .dataframe tbody tr th {\n",
       "        vertical-align: top;\n",
       "    }\n",
       "\n",
       "    .dataframe thead th {\n",
       "        text-align: right;\n",
       "    }\n",
       "</style>\n",
       "<table border=\"1\" class=\"dataframe\">\n",
       "  <thead>\n",
       "    <tr style=\"text-align: right;\">\n",
       "      <th></th>\n",
       "      <th>Unnamed: 0</th>\n",
       "      <th>index</th>\n",
       "      <th>patient_id</th>\n",
       "      <th>nodule_no</th>\n",
       "      <th>slice_no</th>\n",
       "      <th>original_image</th>\n",
       "      <th>mask_image</th>\n",
       "      <th>malignancy</th>\n",
       "      <th>is_cancer</th>\n",
       "      <th>is_clean</th>\n",
       "      <th>is_nodule</th>\n",
       "      <th>data_split</th>\n",
       "    </tr>\n",
       "  </thead>\n",
       "  <tbody>\n",
       "    <tr>\n",
       "      <th>104</th>\n",
       "      <td>104</td>\n",
       "      <td>104</td>\n",
       "      <td>8</td>\n",
       "      <td>0</td>\n",
       "      <td>0</td>\n",
       "      <td>LIDC-IDRI-0008/0008_NI000_slice000</td>\n",
       "      <td>LIDC-IDRI-0008/0008_MA000_slice000</td>\n",
       "      <td>3</td>\n",
       "      <td>Ambiguous</td>\n",
       "      <td>False</td>\n",
       "      <td>True</td>\n",
       "      <td>Test</td>\n",
       "    </tr>\n",
       "    <tr>\n",
       "      <th>105</th>\n",
       "      <td>105</td>\n",
       "      <td>105</td>\n",
       "      <td>8</td>\n",
       "      <td>0</td>\n",
       "      <td>1</td>\n",
       "      <td>LIDC-IDRI-0008/0008_NI000_slice001</td>\n",
       "      <td>LIDC-IDRI-0008/0008_MA000_slice001</td>\n",
       "      <td>3</td>\n",
       "      <td>Ambiguous</td>\n",
       "      <td>False</td>\n",
       "      <td>True</td>\n",
       "      <td>Test</td>\n",
       "    </tr>\n",
       "    <tr>\n",
       "      <th>106</th>\n",
       "      <td>106</td>\n",
       "      <td>106</td>\n",
       "      <td>8</td>\n",
       "      <td>1</td>\n",
       "      <td>1</td>\n",
       "      <td>LIDC-IDRI-0008/0008_NI001_slice001</td>\n",
       "      <td>LIDC-IDRI-0008/0008_MA001_slice001</td>\n",
       "      <td>3</td>\n",
       "      <td>Ambiguous</td>\n",
       "      <td>False</td>\n",
       "      <td>True</td>\n",
       "      <td>Test</td>\n",
       "    </tr>\n",
       "    <tr>\n",
       "      <th>107</th>\n",
       "      <td>107</td>\n",
       "      <td>107</td>\n",
       "      <td>8</td>\n",
       "      <td>1</td>\n",
       "      <td>2</td>\n",
       "      <td>LIDC-IDRI-0008/0008_NI001_slice002</td>\n",
       "      <td>LIDC-IDRI-0008/0008_MA001_slice002</td>\n",
       "      <td>3</td>\n",
       "      <td>Ambiguous</td>\n",
       "      <td>False</td>\n",
       "      <td>True</td>\n",
       "      <td>Test</td>\n",
       "    </tr>\n",
       "    <tr>\n",
       "      <th>316</th>\n",
       "      <td>316</td>\n",
       "      <td>316</td>\n",
       "      <td>22</td>\n",
       "      <td>0</td>\n",
       "      <td>0</td>\n",
       "      <td>LIDC-IDRI-0022/0022_NI000_slice000</td>\n",
       "      <td>LIDC-IDRI-0022/0022_MA000_slice000</td>\n",
       "      <td>2</td>\n",
       "      <td>False</td>\n",
       "      <td>False</td>\n",
       "      <td>True</td>\n",
       "      <td>Test</td>\n",
       "    </tr>\n",
       "  </tbody>\n",
       "</table>\n",
       "</div>"
      ],
      "text/plain": [
       "     Unnamed: 0  index  patient_id  nodule_no  slice_no  \\\n",
       "104         104    104           8          0         0   \n",
       "105         105    105           8          0         1   \n",
       "106         106    106           8          1         1   \n",
       "107         107    107           8          1         2   \n",
       "316         316    316          22          0         0   \n",
       "\n",
       "                         original_image                          mask_image  \\\n",
       "104  LIDC-IDRI-0008/0008_NI000_slice000  LIDC-IDRI-0008/0008_MA000_slice000   \n",
       "105  LIDC-IDRI-0008/0008_NI000_slice001  LIDC-IDRI-0008/0008_MA000_slice001   \n",
       "106  LIDC-IDRI-0008/0008_NI001_slice001  LIDC-IDRI-0008/0008_MA001_slice001   \n",
       "107  LIDC-IDRI-0008/0008_NI001_slice002  LIDC-IDRI-0008/0008_MA001_slice002   \n",
       "316  LIDC-IDRI-0022/0022_NI000_slice000  LIDC-IDRI-0022/0022_MA000_slice000   \n",
       "\n",
       "     malignancy  is_cancer  is_clean  is_nodule data_split  \n",
       "104           3  Ambiguous     False       True       Test  \n",
       "105           3  Ambiguous     False       True       Test  \n",
       "106           3  Ambiguous     False       True       Test  \n",
       "107           3  Ambiguous     False       True       Test  \n",
       "316           2      False     False       True       Test  "
      ]
     },
     "execution_count": 18,
     "metadata": {},
     "output_type": "execute_result"
    }
   ],
   "source": [
    "df.head()"
   ]
  },
  {
   "cell_type": "code",
   "execution_count": 28,
   "metadata": {},
   "outputs": [],
   "source": [
    "slice_num = list(df.loc[:,'original_image'])[0][-19:]"
   ]
  },
  {
   "cell_type": "code",
   "execution_count": 34,
   "metadata": {},
   "outputs": [
    {
     "data": {
      "text/plain": [
       "'0008_PD000_slice000'"
      ]
     },
     "execution_count": 34,
     "metadata": {},
     "output_type": "execute_result"
    }
   ],
   "source": [
    "slice_num.replace('NI','PD')"
   ]
  },
  {
   "cell_type": "code",
   "execution_count": 33,
   "metadata": {},
   "outputs": [
    {
     "ename": "TypeError",
     "evalue": "'str' object does not support item assignment",
     "output_type": "error",
     "traceback": [
      "\u001b[0;31m---------------------------------------------------------------------------\u001b[0m",
      "\u001b[0;31mTypeError\u001b[0m                                 Traceback (most recent call last)",
      "\u001b[0;32m<ipython-input-33-65d958dba08e>\u001b[0m in \u001b[0;36m<module>\u001b[0;34m()\u001b[0m\n\u001b[0;32m----> 1\u001b[0;31m \u001b[0mslice_num\u001b[0m\u001b[0;34m[\u001b[0m\u001b[0;34m-\u001b[0m\u001b[0;36m14\u001b[0m\u001b[0;34m:\u001b[0m\u001b[0;34m-\u001b[0m\u001b[0;36m12\u001b[0m\u001b[0;34m]\u001b[0m\u001b[0;34m=\u001b[0m\u001b[0;34m'pd'\u001b[0m\u001b[0;34m\u001b[0m\u001b[0m\n\u001b[0m",
      "\u001b[0;31mTypeError\u001b[0m: 'str' object does not support item assignment"
     ]
    }
   ],
   "source": [
    "slice_num[-14:-12]='pd'"
   ]
  },
  {
   "cell_type": "code",
   "execution_count": 35,
   "metadata": {},
   "outputs": [
    {
     "data": {
      "text/plain": [
       "'0008_NI000_slice000'"
      ]
     },
     "execution_count": 35,
     "metadata": {},
     "output_type": "execute_result"
    }
   ],
   "source": [
    "slice_num"
   ]
  },
  {
   "cell_type": "code",
   "execution_count": null,
   "metadata": {},
   "outputs": [],
   "source": []
  }
 ],
 "metadata": {
  "kernelspec": {
   "display_name": "Python 3",
   "language": "python",
   "name": "python3"
  },
  "language_info": {
   "codemirror_mode": {
    "name": "ipython",
    "version": 3
   },
   "file_extension": ".py",
   "mimetype": "text/x-python",
   "name": "python",
   "nbconvert_exporter": "python",
   "pygments_lexer": "ipython3",
   "version": "3.6.5"
  }
 },
 "nbformat": 4,
 "nbformat_minor": 2
}
